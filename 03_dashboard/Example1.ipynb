{
 "cells": [
  {
   "cell_type": "code",
   "execution_count": 1,
   "id": "20987759",
   "metadata": {},
   "outputs": [],
   "source": [
    "!python3 -m venv paquete"
   ]
  },
  {
   "cell_type": "code",
   "execution_count": 2,
   "id": "62f45253",
   "metadata": {},
   "outputs": [],
   "source": [
    "!source paquete/bin/activate"
   ]
  },
  {
   "cell_type": "code",
   "execution_count": 3,
   "id": "174f3848",
   "metadata": {},
   "outputs": [
    {
     "name": "stdout",
     "output_type": "stream",
     "text": [
      "Requirement already satisfied: Dash in /home/amzng/Documents/GitHub/visualizacion_de_datos/paquetes/lib/python3.12/site-packages (3.0.2)\n",
      "Requirement already satisfied: Flask<3.1,>=1.0.4 in /home/amzng/Documents/GitHub/visualizacion_de_datos/paquetes/lib/python3.12/site-packages (from Dash) (3.0.3)\n",
      "Requirement already satisfied: Werkzeug<3.1 in /home/amzng/Documents/GitHub/visualizacion_de_datos/paquetes/lib/python3.12/site-packages (from Dash) (3.0.6)\n",
      "Requirement already satisfied: plotly>=5.0.0 in /home/amzng/Documents/GitHub/visualizacion_de_datos/paquetes/lib/python3.12/site-packages (from Dash) (6.0.1)\n",
      "Requirement already satisfied: importlib-metadata in /home/amzng/Documents/GitHub/visualizacion_de_datos/paquetes/lib/python3.12/site-packages (from Dash) (8.6.1)\n",
      "Requirement already satisfied: typing-extensions>=4.1.1 in /home/amzng/Documents/GitHub/visualizacion_de_datos/paquetes/lib/python3.12/site-packages (from Dash) (4.13.2)\n",
      "Requirement already satisfied: requests in /home/amzng/Documents/GitHub/visualizacion_de_datos/paquetes/lib/python3.12/site-packages (from Dash) (2.32.3)\n",
      "Requirement already satisfied: retrying in /home/amzng/Documents/GitHub/visualizacion_de_datos/paquetes/lib/python3.12/site-packages (from Dash) (1.3.4)\n",
      "Requirement already satisfied: nest-asyncio in /home/amzng/Documents/GitHub/visualizacion_de_datos/paquetes/lib/python3.12/site-packages (from Dash) (1.6.0)\n",
      "Requirement already satisfied: setuptools in /home/amzng/Documents/GitHub/visualizacion_de_datos/paquetes/lib/python3.12/site-packages (from Dash) (78.1.0)\n",
      "Requirement already satisfied: Jinja2>=3.1.2 in /home/amzng/Documents/GitHub/visualizacion_de_datos/paquetes/lib/python3.12/site-packages (from Flask<3.1,>=1.0.4->Dash) (3.1.6)\n",
      "Requirement already satisfied: itsdangerous>=2.1.2 in /home/amzng/Documents/GitHub/visualizacion_de_datos/paquetes/lib/python3.12/site-packages (from Flask<3.1,>=1.0.4->Dash) (2.2.0)\n",
      "Requirement already satisfied: click>=8.1.3 in /home/amzng/Documents/GitHub/visualizacion_de_datos/paquetes/lib/python3.12/site-packages (from Flask<3.1,>=1.0.4->Dash) (8.1.8)\n",
      "Requirement already satisfied: blinker>=1.6.2 in /home/amzng/Documents/GitHub/visualizacion_de_datos/paquetes/lib/python3.12/site-packages (from Flask<3.1,>=1.0.4->Dash) (1.9.0)\n",
      "Requirement already satisfied: narwhals>=1.15.1 in /home/amzng/Documents/GitHub/visualizacion_de_datos/paquetes/lib/python3.12/site-packages (from plotly>=5.0.0->Dash) (1.34.1)\n",
      "Requirement already satisfied: packaging in /home/amzng/Documents/GitHub/visualizacion_de_datos/paquetes/lib/python3.12/site-packages (from plotly>=5.0.0->Dash) (24.2)\n",
      "Requirement already satisfied: MarkupSafe>=2.1.1 in /home/amzng/Documents/GitHub/visualizacion_de_datos/paquetes/lib/python3.12/site-packages (from Werkzeug<3.1->Dash) (3.0.2)\n",
      "Requirement already satisfied: zipp>=3.20 in /home/amzng/Documents/GitHub/visualizacion_de_datos/paquetes/lib/python3.12/site-packages (from importlib-metadata->Dash) (3.21.0)\n",
      "Requirement already satisfied: charset-normalizer<4,>=2 in /home/amzng/Documents/GitHub/visualizacion_de_datos/paquetes/lib/python3.12/site-packages (from requests->Dash) (3.4.1)\n",
      "Requirement already satisfied: idna<4,>=2.5 in /home/amzng/Documents/GitHub/visualizacion_de_datos/paquetes/lib/python3.12/site-packages (from requests->Dash) (3.10)\n",
      "Requirement already satisfied: urllib3<3,>=1.21.1 in /home/amzng/Documents/GitHub/visualizacion_de_datos/paquetes/lib/python3.12/site-packages (from requests->Dash) (2.4.0)\n",
      "Requirement already satisfied: certifi>=2017.4.17 in /home/amzng/Documents/GitHub/visualizacion_de_datos/paquetes/lib/python3.12/site-packages (from requests->Dash) (2025.1.31)\n",
      "Requirement already satisfied: six>=1.7.0 in /home/amzng/Documents/GitHub/visualizacion_de_datos/paquetes/lib/python3.12/site-packages (from retrying->Dash) (1.17.0)\n"
     ]
    }
   ],
   "source": [
    "!pip install Dash"
   ]
  },
  {
   "cell_type": "code",
   "execution_count": 4,
   "id": "2976dc52",
   "metadata": {},
   "outputs": [
    {
     "name": "stdout",
     "output_type": "stream",
     "text": [
      "Requirement already satisfied: pandas in /home/amzng/Documents/GitHub/visualizacion_de_datos/paquetes/lib/python3.12/site-packages (2.2.3)\n",
      "Requirement already satisfied: numpy>=1.26.0 in /home/amzng/Documents/GitHub/visualizacion_de_datos/paquetes/lib/python3.12/site-packages (from pandas) (2.2.4)\n",
      "Requirement already satisfied: python-dateutil>=2.8.2 in /home/amzng/Documents/GitHub/visualizacion_de_datos/paquetes/lib/python3.12/site-packages (from pandas) (2.9.0.post0)\n",
      "Requirement already satisfied: pytz>=2020.1 in /home/amzng/Documents/GitHub/visualizacion_de_datos/paquetes/lib/python3.12/site-packages (from pandas) (2025.2)\n",
      "Requirement already satisfied: tzdata>=2022.7 in /home/amzng/Documents/GitHub/visualizacion_de_datos/paquetes/lib/python3.12/site-packages (from pandas) (2025.2)\n",
      "Requirement already satisfied: six>=1.5 in /home/amzng/Documents/GitHub/visualizacion_de_datos/paquetes/lib/python3.12/site-packages (from python-dateutil>=2.8.2->pandas) (1.17.0)\n"
     ]
    }
   ],
   "source": [
    "!pip install pandas"
   ]
  },
  {
   "cell_type": "code",
   "execution_count": 5,
   "id": "9b4e9e69-c730-4b71-86d5-6ee31614c750",
   "metadata": {},
   "outputs": [
    {
     "ename": "ModuleNotFoundError",
     "evalue": "No module named 'dash'",
     "output_type": "error",
     "traceback": [
      "\u001b[0;31m---------------------------------------------------------------------------\u001b[0m",
      "\u001b[0;31mModuleNotFoundError\u001b[0m                       Traceback (most recent call last)",
      "Cell \u001b[0;32mIn[5], line 1\u001b[0m\n\u001b[0;32m----> 1\u001b[0m \u001b[38;5;28;01mfrom\u001b[39;00m \u001b[38;5;21;01mdash\u001b[39;00m \u001b[38;5;28;01mimport\u001b[39;00m Dash, html \n\u001b[1;32m      2\u001b[0m \u001b[38;5;66;03m#Al crear aplicaciones Dash, casi siempre se utiliza esta declaración de importación.\u001b[39;00m\n\u001b[1;32m      3\u001b[0m \u001b[38;5;66;03m#Aplicaciones Dash más avanzadas importarán más paquetes.\u001b[39;00m\n\u001b[1;32m      5\u001b[0m app \u001b[38;5;241m=\u001b[39m Dash(\u001b[38;5;18m__name__\u001b[39m) \n",
      "\u001b[0;31mModuleNotFoundError\u001b[0m: No module named 'dash'"
     ]
    }
   ],
   "source": [
    "from dash import Dash, html \n",
    "#Al crear aplicaciones Dash, casi siempre se utiliza esta declaración de importación.\n",
    "#Aplicaciones Dash más avanzadas importarán más paquetes.\n",
    "\n",
    "app = Dash(__name__) \n",
    "#Esta línea se conoce como constructor Dash y es responsable de inicializar la aplicación.\n",
    "#Suele mantenerse para cualquier aplicación Dash.\n",
    "\n",
    "app.layout = html.Div([\n",
    "    html.Div(children='Hello World')\n",
    "])\n",
    "#El app.layout representa los componentes de la aplicación que se mostrarán en el navegador web, normalmente contenidos en un html.Div.\n",
    "#En este ejemplo, se agregó un solo componente: otro html.Div.\n",
    "#El Div tiene algunas propiedades, como children, que usamos para agregar contenido de texto a la página: \"Hello World\".\n",
    "\n",
    "if __name__ == '__main__':\n",
    "    app.run(debug=True)\n",
    "#Estas líneas son para ejecutar la aplicación y suelen mantenerse para cualquier aplicación Dash."
   ]
  },
  {
   "cell_type": "code",
   "execution_count": null,
   "id": "a8819bfe-67ec-4a41-a58d-0c0e45b629f0",
   "metadata": {},
   "outputs": [],
   "source": []
  },
  {
   "cell_type": "code",
   "execution_count": null,
   "id": "b2694351-a943-4451-a7c8-afc3d9d3fcd5",
   "metadata": {},
   "outputs": [],
   "source": []
  }
 ],
 "metadata": {
  "kernelspec": {
   "display_name": "Python 3 (ipykernel)",
   "language": "python",
   "name": "python3"
  },
  "language_info": {
   "codemirror_mode": {
    "name": "ipython",
    "version": 3
   },
   "file_extension": ".py",
   "mimetype": "text/x-python",
   "name": "python",
   "nbconvert_exporter": "python",
   "pygments_lexer": "ipython3",
   "version": "3.12.3"
  }
 },
 "nbformat": 4,
 "nbformat_minor": 5
}
