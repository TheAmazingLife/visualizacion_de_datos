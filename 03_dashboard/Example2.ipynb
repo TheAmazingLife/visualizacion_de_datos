{
 "cells": [
  {
   "cell_type": "code",
   "execution_count": 2,
   "id": "bbe6cb48-dc36-424c-ac28-3c8be743600a",
   "metadata": {},
   "outputs": [
    {
     "data": {
      "text/html": [
       "\n",
       "        <iframe\n",
       "            width=\"100%\"\n",
       "            height=\"650\"\n",
       "            src=\"http://127.0.0.1:8052/\"\n",
       "            frameborder=\"0\"\n",
       "            allowfullscreen\n",
       "            \n",
       "        ></iframe>\n",
       "        "
      ],
      "text/plain": [
       "<IPython.lib.display.IFrame at 0x127cb3050>"
      ]
     },
     "metadata": {},
     "output_type": "display_data"
    }
   ],
   "source": [
    "# Import packages\n",
    "from dash import Dash, html, dash_table\n",
    "import pandas as pd\n",
    "#Importamos el módulo dash_table para mostrar los datos dentro de un Dash DataTable. \n",
    "#También importamos la biblioteca pandas para leer los datos de la hoja CSV.\n",
    "\n",
    "# Incorporate data\n",
    "df = pd.read_csv('https://raw.githubusercontent.com/plotly/datasets/master/gapminder2007.csv')\n",
    "#Aquí leemos el dataset CSV en un dataframe de pandas. Esto facilitará la partición, el filtrado y la inspección de los datos.\n",
    "#Si se requiere utilizar un dataset local (en su equipo), actualice la línea de código a: df = pd.read_csv('NameOfYourFile.csv'),\n",
    "#manteniendo la ruta \n",
    "#Si está utilizando una hoja de Excel, asegúrese de instalar openpyxl con pip. Luego, actualice la línea de código a: df = pd.read_excel('NameOfYourFile.xlsx',sheet_name='Sheet1')\n",
    "\n",
    "# Initialize the app\n",
    "app = Dash(__name__)\n",
    "\n",
    "# App layout\n",
    "app.layout = html.Div([\n",
    "    html.Div(children='My First App with Data'),\n",
    "    dash_table.DataTable(data=df.to_dict('records'), page_size=10)\n",
    "])\n",
    "\n",
    "#Además del título de la aplicación, agregamos el componente DataTable y leemos el dataframe de pandas en la tabla.\n",
    "\n",
    "# Run the app\n",
    "if __name__ == '__main__':\n",
    "    app.run_server(port=8052)\n"
   ]
  },
  {
   "cell_type": "code",
   "execution_count": null,
   "id": "a2a0cbbf-d9fb-4492-9582-232f6f71865c",
   "metadata": {},
   "outputs": [],
   "source": []
  }
 ],
 "metadata": {
  "kernelspec": {
   "display_name": "Python 3 (ipykernel)",
   "language": "python",
   "name": "python3"
  },
  "language_info": {
   "codemirror_mode": {
    "name": "ipython",
    "version": 3
   },
   "file_extension": ".py",
   "mimetype": "text/x-python",
   "name": "python",
   "nbconvert_exporter": "python",
   "pygments_lexer": "ipython3",
   "version": "3.11.4"
  }
 },
 "nbformat": 4,
 "nbformat_minor": 5
}
