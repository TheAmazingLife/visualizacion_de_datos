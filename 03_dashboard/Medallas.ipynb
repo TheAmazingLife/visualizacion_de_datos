{
 "cells": [
  {
   "cell_type": "code",
   "execution_count": 8,
   "id": "f110e251",
   "metadata": {},
   "outputs": [],
   "source": [
    "from dash import Dash, dcc, Output, Input  # pip install dash\n",
    "import dash_bootstrap_components as dbc    # pip install dash-bootstrap-components\n",
    "import plotly.express as px"
   ]
  },
  {
   "cell_type": "code",
   "execution_count": 9,
   "id": "e7d3b8e6",
   "metadata": {},
   "outputs": [],
   "source": [
    "# importamos datos desde la biblioteca plotly.express\n",
    "df = px.data.medals_long()"
   ]
  },
  {
   "cell_type": "code",
   "execution_count": 10,
   "id": "96b1ae8a",
   "metadata": {},
   "outputs": [],
   "source": [
    "# Los componentes. Ya los conocen\n",
    "app = Dash(__name__, external_stylesheets=[dbc.themes.VAPOR])\n",
    "mytitle = dcc.Markdown(children='# Análisis de Medallas Olímpicas')\n",
    "mygraph = dcc.Graph(figure={})\n",
    "dropdown = dcc.Dropdown(options=['Bar Plot', 'Scatter Plot'],\n",
    "                        value='Bar Plot',  # valor inicialmente desplegado\n",
    "                        clearable=False)\n"
   ]
  },
  {
   "cell_type": "code",
   "execution_count": 11,
   "id": "a37a2393",
   "metadata": {},
   "outputs": [],
   "source": [
    "# Personalización de layout\n",
    "app.layout = dbc.Container([mytitle, mygraph, dropdown])"
   ]
  },
  {
   "cell_type": "code",
   "execution_count": 12,
   "id": "94ca8adb",
   "metadata": {},
   "outputs": [],
   "source": [
    "# Callback para interactuar desde el dropdown al gráfico\n",
    "@app.callback(\n",
    "    Output(mygraph, component_property='figure'),\n",
    "    Input(dropdown, component_property='value')\n",
    ")\n",
    "\n",
    "def update_graph(user_input):  # argumento desde el component_property del Input\n",
    "    if user_input == 'Bar Plot':\n",
    "        fig = px.bar(data_frame=df, x=\"nation\", y=\"count\", color=\"medal\")\n",
    "\n",
    "    elif user_input == 'Scatter Plot':\n",
    "        fig = px.scatter(data_frame=df, x=\"count\", y=\"nation\", color=\"medal\",\n",
    "                         symbol=\"medal\")\n",
    "\n",
    "    return fig  # objeto retornado se asigna al component_property del Output"
   ]
  },
  {
   "cell_type": "code",
   "execution_count": null,
   "id": "5887f025",
   "metadata": {},
   "outputs": [
    {
     "name": "stdout",
     "output_type": "stream",
     "text": [
      "Dash is running on http://127.0.0.1:8053/\n",
      "\n",
      " * Serving Flask app '__main__'\n",
      " * Debug mode: off\n"
     ]
    },
    {
     "name": "stderr",
     "output_type": "stream",
     "text": [
      "WARNING: This is a development server. Do not use it in a production deployment. Use a production WSGI server instead.\n",
      " * Running on http://127.0.0.1:8053\n",
      "Press CTRL+C to quit\n"
     ]
    }
   ],
   "source": [
    "# Ejecutar\n",
    "if __name__=='__main__':\n",
    "    app.run_server(port=8053)\n"
   ]
  }
 ],
 "metadata": {
  "kernelspec": {
   "display_name": "Python 3 (ipykernel)",
   "language": "python",
   "name": "python3"
  },
  "language_info": {
   "codemirror_mode": {
    "name": "ipython",
    "version": 3
   },
   "file_extension": ".py",
   "mimetype": "text/x-python",
   "name": "python",
   "nbconvert_exporter": "python",
   "pygments_lexer": "ipython3",
   "version": "3.10.9"
  }
 },
 "nbformat": 4,
 "nbformat_minor": 5
}
