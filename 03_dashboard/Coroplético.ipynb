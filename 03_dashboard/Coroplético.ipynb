{
 "cells": [
  {
   "cell_type": "code",
   "execution_count": 14,
   "id": "b816cb20",
   "metadata": {},
   "outputs": [],
   "source": [
    "from dash import Dash, dcc, Output, Input  # pip install dash\n",
    "import dash_bootstrap_components as dbc    # pip install dash-bootstrap-components\n",
    "import plotly.express as px\n",
    "import pandas as pd                        # pip install pandas"
   ]
  },
  {
   "cell_type": "code",
   "execution_count": 15,
   "id": "28edde6e",
   "metadata": {},
   "outputs": [
    {
     "name": "stdout",
     "output_type": "stream",
     "text": [
      "   YEAR STATE  Cesarean Delivery Rate  Drug Overdose Mortality per 100,000  \\\n",
      "0  2005    AL                    31.8                                  6.3   \n",
      "1  2005    AK                    21.9                                 11.4   \n",
      "2  2005    AZ                    24.7                                 14.1   \n",
      "3  2005    AR                    31.5                                 10.1   \n",
      "4  2005    CA                    30.7                                  9.0   \n",
      "\n",
      "   Percent of Babies Born to Unmarried Mothers  Suicide Mortality per 100,000  \\\n",
      "0                                         35.7                           11.5   \n",
      "1                                         36.0                           19.9   \n",
      "2                                         43.1                           16.4   \n",
      "3                                         40.2                           14.3   \n",
      "4                                         35.7                            9.1   \n",
      "\n",
      "   Teen Births per 1,000  \n",
      "0                   49.7  \n",
      "1                   37.3  \n",
      "2                   58.2  \n",
      "3                   59.1  \n",
      "4                   38.8  \n"
     ]
    }
   ],
   "source": [
    "# incorporar datos a la app\n",
    "# Origen - https://www.cdc.gov/nchs/pressroom/stats_of_the_states.htm\n",
    "df = pd.read_csv(\"https://raw.githubusercontent.com/Coding-with-Adam/Dash-by-Plotly/master/Good_to_Know/Dash2.0/social_capital.csv\")\n",
    "print(df.head())"
   ]
  },
  {
   "cell_type": "code",
   "execution_count": 16,
   "id": "bd009a9c",
   "metadata": {},
   "outputs": [],
   "source": [
    "# Construcción de componentes\n",
    "app = Dash(__name__, external_stylesheets=[dbc.themes.LUX])\n",
    "mytitle = dcc.Markdown(children='')\n",
    "mygraph = dcc.Graph(figure={})\n",
    "dropdown = dcc.Dropdown(options=df.columns.values[2:],\n",
    "                        value='Cesarean Delivery Rate',  # valor inicial al desplegar el dashboard\n",
    "                        clearable=False)\n"
   ]
  },
  {
   "cell_type": "code",
   "execution_count": 17,
   "id": "7245a6df",
   "metadata": {},
   "outputs": [],
   "source": [
    "# Otra forma de personalizar el dashboard. Por filas\n",
    "app.layout = dbc.Container([\n",
    "    dbc.Row([\n",
    "        dbc.Col([mytitle], width=6)\n",
    "    ], justify='center'),\n",
    "    dbc.Row([\n",
    "        dbc.Col([mygraph], width=12)\n",
    "    ]),\n",
    "    dbc.Row([\n",
    "        dbc.Col([dropdown], width=6)\n",
    "    ], justify='center'),\n",
    "\n",
    "], fluid=True)\n"
   ]
  },
  {
   "cell_type": "code",
   "execution_count": 18,
   "id": "bca3229a",
   "metadata": {},
   "outputs": [],
   "source": [
    "# Ojo con los dos outputs del callback\n",
    "@app.callback(\n",
    "    Output(mygraph, 'figure'),\n",
    "    Output(mytitle, 'children'),\n",
    "    Input(dropdown, 'value')\n",
    ")\n",
    "def update_graph(column_name):  # argumentos de la función desde el component_property del Input\n",
    "\n",
    "    print(column_name)\n",
    "    print(type(column_name))\n",
    "    # https://plotly.com/python/choropleth-maps/\n",
    "    fig = px.choropleth(data_frame=df,\n",
    "                        locations='STATE',\n",
    "                        locationmode=\"USA-states\",\n",
    "                        scope=\"usa\",\n",
    "                        height=600,\n",
    "                        color=column_name,\n",
    "                        animation_frame='YEAR')\n",
    "\n",
    "    return fig, '# '+column_name  # objetos retornados a los correspondientes component_property de los Output\n"
   ]
  },
  {
   "cell_type": "code",
   "execution_count": 19,
   "id": "1bcd79ad",
   "metadata": {},
   "outputs": [
    {
     "name": "stdout",
     "output_type": "stream",
     "text": [
      "Dash is running on http://127.0.0.1:8054/\n",
      "\n",
      " * Serving Flask app '__main__'\n",
      " * Debug mode: on\n"
     ]
    },
    {
     "ename": "SystemExit",
     "evalue": "1",
     "output_type": "error",
     "traceback": [
      "An exception has occurred, use %tb to see the full traceback.\n",
      "\u001b[1;31mSystemExit\u001b[0m\u001b[1;31m:\u001b[0m 1\n"
     ]
    },
    {
     "name": "stderr",
     "output_type": "stream",
     "text": [
      "C:\\Users\\HP\\anaconda3\\lib\\site-packages\\IPython\\core\\interactiveshell.py:3468: UserWarning: To exit: use 'exit', 'quit', or Ctrl-D.\n",
      "  warn(\"To exit: use 'exit', 'quit', or Ctrl-D.\", stacklevel=1)\n"
     ]
    }
   ],
   "source": [
    "# ejecutar\n",
    "if __name__=='__main__':\n",
    "    app.run_server(debug=True, port=8054)"
   ]
  },
  {
   "cell_type": "code",
   "execution_count": null,
   "id": "ce6a86b6",
   "metadata": {},
   "outputs": [],
   "source": []
  }
 ],
 "metadata": {
  "kernelspec": {
   "display_name": "Python 3 (ipykernel)",
   "language": "python",
   "name": "python3"
  },
  "language_info": {
   "codemirror_mode": {
    "name": "ipython",
    "version": 3
   },
   "file_extension": ".py",
   "mimetype": "text/x-python",
   "name": "python",
   "nbconvert_exporter": "python",
   "pygments_lexer": "ipython3",
   "version": "3.10.9"
  }
 },
 "nbformat": 4,
 "nbformat_minor": 5
}
