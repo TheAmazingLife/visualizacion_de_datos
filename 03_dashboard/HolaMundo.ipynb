{
 "cells": [
  {
   "cell_type": "code",
   "execution_count": 1,
   "id": "d614f489",
   "metadata": {},
   "outputs": [],
   "source": [
    "from dash import Dash, dcc               # pip install dash\n",
    "import dash_bootstrap_components as dbc  # pip install dash-bootstrap-components"
   ]
  },
  {
   "cell_type": "code",
   "execution_count": 2,
   "id": "8a7ac0bf",
   "metadata": {},
   "outputs": [],
   "source": [
    "# Declaración y construcción de componentes\n",
    "app = Dash(__name__, external_stylesheets=[dbc.themes.BOOTSTRAP])\n",
    "mytext = dcc.Markdown(children=\"# Hola Mundo - este es el primer dashboard en Dash\")"
   ]
  },
  {
   "cell_type": "code",
   "execution_count": 3,
   "id": "f8255ae6",
   "metadata": {},
   "outputs": [],
   "source": [
    "# Definición de layout\n",
    "app.layout = dbc.Container([mytext])"
   ]
  },
  {
   "cell_type": "code",
   "execution_count": null,
   "id": "010198ad",
   "metadata": {},
   "outputs": [
    {
     "name": "stdout",
     "output_type": "stream",
     "text": [
      "Dash is running on http://127.0.0.1:8051/\n",
      "\n",
      " * Serving Flask app '__main__'\n",
      " * Debug mode: off\n"
     ]
    },
    {
     "name": "stderr",
     "output_type": "stream",
     "text": [
      "WARNING: This is a development server. Do not use it in a production deployment. Use a production WSGI server instead.\n",
      " * Running on http://127.0.0.1:8051\n",
      "Press CTRL+C to quit\n",
      "127.0.0.1 - - [06/Jun/2023 13:42:42] \"GET / HTTP/1.1\" 200 -\n",
      "127.0.0.1 - - [06/Jun/2023 13:42:42] \"GET /_dash-layout HTTP/1.1\" 200 -\n",
      "127.0.0.1 - - [06/Jun/2023 13:42:42] \"GET /_dash-dependencies HTTP/1.1\" 200 -\n",
      "127.0.0.1 - - [06/Jun/2023 13:42:43] \"GET /_dash-component-suites/dash/dcc/async-markdown.js HTTP/1.1\" 304 -\n",
      "127.0.0.1 - - [06/Jun/2023 13:42:43] \"GET /_favicon.ico?v=2.10.2 HTTP/1.1\" 200 -\n",
      "127.0.0.1 - - [06/Jun/2023 13:42:43] \"GET /_dash-component-suites/dash/dcc/async-highlight.js HTTP/1.1\" 304 -\n"
     ]
    }
   ],
   "source": [
    "# ejecución de aplicación\n",
    "if __name__=='__main__':\n",
    "    app.run_server(port=8051)"
   ]
  },
  {
   "cell_type": "code",
   "execution_count": null,
   "id": "342a0702",
   "metadata": {},
   "outputs": [],
   "source": []
  }
 ],
 "metadata": {
  "kernelspec": {
   "display_name": "Python 3 (ipykernel)",
   "language": "python",
   "name": "python3"
  },
  "language_info": {
   "codemirror_mode": {
    "name": "ipython",
    "version": 3
   },
   "file_extension": ".py",
   "mimetype": "text/x-python",
   "name": "python",
   "nbconvert_exporter": "python",
   "pygments_lexer": "ipython3",
   "version": "3.10.9"
  }
 },
 "nbformat": 4,
 "nbformat_minor": 5
}
